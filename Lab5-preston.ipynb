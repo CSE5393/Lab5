{
 "cells": [
  {
   "cell_type": "markdown",
   "metadata": {},
   "source": [
    "# Lab 5 - Evaluation and Multi-Layer Perceptron\n",
    "\n",
    "Members: Preston Tighe, Van Tran, Arturo Laguna"
   ]
  },
  {
   "cell_type": "markdown",
   "metadata": {},
   "source": [
    "## Preparation\n",
    "The dataset is a collection of handwritten digits taken from American Census Beareau employees. The data was collected by the NIST (National Institute of Science and Technology) and is a subset of their training data. The data comes from a larger database called the MNIST (Mixed National Institute of Science and Technology) database. The database is split into two datasets, a training and a testing. This dataset used in this project is a subset of size 60,000 images that are each 28x28 pixels.\n",
    "\n",
    "This data is downloaded from:\n",
    "http://yann.lecun.com/exdb/mnist/\n",
    "\n",
    "Our task is to determine a digit 0-9 from a handwritten image of a specific digit.\n",
    "\n",
    "The classification task is the following:\n",
    "Given an array of feature vectors and target vector (10 classes: the numbers 0-9) containing the information described below, create a TLP that can correctly predict the target (10 classes: the numbers 0-9) given a feature vector.\n",
    "\n",
    "This data is important because the classification of written digits can be useful. To list a couple of examples, reading credit cards, standardized test grading, written text to digital text conversion, etc.\n",
    "\n",
    "Our prediction algorithm would need to be greater than 85% f1 score to be some what considered useful by interested parties. 95% would be ideal but 85% would be decent enough to be used in production for some applications."
   ]
  },
  {
   "cell_type": "code",
   "execution_count": 1,
   "metadata": {
    "collapsed": false
   },
   "outputs": [],
   "source": [
    "# Imports\n",
    "\n",
    "import os\n",
    "import sys\n",
    "import random\n",
    "import copy\n",
    "import warnings\n",
    "from random import randint\n",
    "import _pickle as cPickle\n",
    "import gzip\n",
    "\n",
    "import numpy as np\n",
    "import pandas as pd\n",
    "\n",
    "import matplotlib.image as mpimg\n",
    "import matplotlib.pyplot as plt\n",
    "import seaborn as sns\n",
    "import plotly\n",
    "from plotly.graph_objs import Scatter, Marker, Layout, XAxis, YAxis, Bar, Line\n",
    "\n",
    "from sklearn.preprocessing import StandardScaler\n",
    "from sklearn.metrics import make_scorer, accuracy_score, f1_score, precision_score, recall_score\n",
    "from sklearn.decomposition import PCA\n",
    "from sklearn.model_selection import train_test_split\n",
    "from sklearn.model_selection import RandomizedSearchCV\n",
    "from sklearn.pipeline import Pipeline\n",
    "from sklearn.base import BaseEstimator, ClassifierMixin\n",
    "from sklearn.neural_network import MLPClassifier\n",
    "from scipy.misc import imread\n",
    "from scipy.special import expit\n",
    "from skimage.filters import roberts\n",
    "from skimage.feature import daisy\n",
    "from struct import unpack\n",
    "from sklearn.model_selection import StratifiedShuffleSplit, StratifiedKFold, cross_val_score\n",
    "\n",
    "%matplotlib inline\n",
    "%reload_ext  memory_profiler\n",
    "plt.style.use('ggplot')"
   ]
  },
  {
   "cell_type": "code",
   "execution_count": 2,
   "metadata": {
    "collapsed": false
   },
   "outputs": [
    {
     "name": "stdout",
     "output_type": "stream",
     "text": [
      "5000\n",
      "done\n"
     ]
    }
   ],
   "source": [
    "# Parse dataset, only use 5,000 images\n",
    "\n",
    "binaryData = gzip.open('train-images-idx3-ubyte.gz', 'rb')\n",
    "binaryLabels = gzip.open('train-labels-idx1-ubyte.gz', 'rb')\n",
    "\n",
    "# Get metadata for images\n",
    "# magic number means nothing to me so skip\n",
    "binaryData.read(4)\n",
    "binaryLabels.read(8)\n",
    "numImages = binaryData.read(4)\n",
    "numImages = unpack('>I', numImages)[0]\n",
    "numImages = numImages - 55000\n",
    "# Interpret packed binary data as '>I' which is big endian unsigned int\n",
    "numRows = binaryData.read(4)\n",
    "numRows = unpack('>I', numRows)[0]\n",
    "numCols = binaryData.read(4)\n",
    "numCols = unpack('>I', numCols)[0]\n",
    "\n",
    "print(numImages) # should be 5000\n",
    "\n",
    "# Now read into numpy array\n",
    "images = np.empty([numImages, numRows, numCols], dtype=np.float32) \n",
    "Y = np.empty([numImages,], dtype=np.uint8)\n",
    "for image in range(numImages):\n",
    "    for row in range(numRows):\n",
    "        for col in range(numCols):\n",
    "                pixel = binaryData.read(1)  # Just a single byte\n",
    "                pixel = unpack('>B', pixel)[0]\n",
    "                images[image][row][col] = pixel\n",
    "    label = binaryLabels.read(1)\n",
    "    Y[image] = unpack('>B', label)[0]\n",
    "print('done')"
   ]
  },
  {
   "cell_type": "code",
   "execution_count": 3,
   "metadata": {
    "collapsed": false
   },
   "outputs": [],
   "source": [
    "# Bag of pixels model\n",
    "\n",
    "X = np.empty([numImages, numRows * numCols])\n",
    "for i in range(numImages):\n",
    "    X[i] = images[i].flatten()"
   ]
  },
  {
   "cell_type": "code",
   "execution_count": 4,
   "metadata": {
    "collapsed": false
   },
   "outputs": [
    {
     "name": "stdout",
     "output_type": "stream",
     "text": [
      "Original n_samples: 5000\n",
      "Original n_features: 784\n",
      "Original n_class_labels: 5000\n",
      "Original image sizes: 28 by 28\n"
     ]
    }
   ],
   "source": [
    "# Initial dataset description\n",
    "\n",
    "n_samples, n_features = X.shape\n",
    "_, h, w = images.shape\n",
    "n_classes = len(Y)\n",
    "\n",
    "print(\"Original n_samples: {}\".format(n_samples))\n",
    "print(\"Original n_features: {}\".format(n_features))\n",
    "print(\"Original n_class_labels: {}\".format(n_classes))\n",
    "print(\"Original image sizes: {} by {}\".format(h,w))"
   ]
  },
  {
   "cell_type": "code",
   "execution_count": 5,
   "metadata": {
    "collapsed": false
   },
   "outputs": [
    {
     "name": "stdout",
     "output_type": "stream",
     "text": [
      "New n_samples: 5000\n",
      "New n_features: 150\n"
     ]
    }
   ],
   "source": [
    "# Full PCA with 95% variance from Lab 3 graph by choosing the top 150 components\n",
    "# Full PCA was the best of full, kernel, and randomized PCA\n",
    "\n",
    "pca = PCA(n_components=150)\n",
    "X = pca.fit_transform(X)\n",
    "n_samples, n_features = X.shape\n",
    "print(\"New n_samples: {}\".format(n_samples))\n",
    "print(\"New n_features: {}\".format(n_features))"
   ]
  },
  {
   "cell_type": "markdown",
   "metadata": {},
   "source": [
    "Our final dataset, X, is a table of 5000 images that have been flattened and dimensionally reduced using Full PCA to their top 150 eigenobjects using only 150 columns instead of 784 different columns that was initially based on the 28x28=784, height x width."
   ]
  },
  {
   "cell_type": "markdown",
   "metadata": {},
   "source": [
    "## Evaluation\n",
    "\n",
    "### Metrics\n",
    "\n",
    "We need to choose a method for scoring our classifier based on recall, precision, accuracy, and F1 score. There can only be 4 types of classifying when we classify an image. They are true positive (tp), true negative (tn), false positive (fp), and false negative (fn).\n",
    "\n",
    "We just need to maximize true positives or true negatives. Accuracy doesn't take into account false positives so we need a metric that does this for us. We also want to minimize both false positives and false negatives. The F1 score does all this for us with the formula F1 = 2 (r * p) / (r + p). The F1 score is the harmonic mean using precision p = tp/(tp+fp) and recall r = tp/(tp+fn). We use the harmonic mean here because we are dealing with ratios when we are finding the probability.\n",
    "\n",
    "\n",
    "### Dividing Data Methods\n",
    "\n",
    "We also needed to choose a method for splitting our data set into smaller sets that more closely model a real-life scenario, as we don't get to train over every sample of data that comes in before needing to predict what its outcome will be. We have a couple tools to use for our training-test model selection: basic % based train-test, K-folds, shuffle splits, and stratified K-fold or shuffle splits. We know that our set is pretty much balanced at ~500 samples for each class. There is no need for any ordering of our set as it's not a time-series or any other ordered series. There shouldn't be any bias in the ordering of members of a class. We could reliably pick any of the model selection techniques and still get decent results. However, some of the techniques are significantly better than the others. We do want one of the stratified techniques as there is no reason we should introduce a class imbalance into the mix when there was none before. We also want to actually use a cross-validation technique rather than a simple test-train split, as it helps us to try out every data sample in a training set. This leaves us with either Stratified K-Fold splits or Stratified Shuffle Splits. As randomly selecting X members of each class shouldn't introduce any bias and using a Shuffle Split has the potential to be faster, our final Cross-Validation technique will be the Stratified Shuffle Split."
   ]
  },
  {
   "cell_type": "markdown",
   "metadata": {
    "collapsed": true
   },
   "source": [
    "## Modeling\n",
    "\n",
    "We created a 2 layer perception that allows the user to update the cost function and the first layer function.\n",
    "<br>\n",
    "<br>\n",
    "**What updated:**  \n",
    "cost function: cost  \n",
    "feed forward: first layer  \n",
    "gradient calculation: first layer & cost"
   ]
  },
  {
   "cell_type": "code",
   "execution_count": 6,
   "metadata": {
    "collapsed": false
   },
   "outputs": [],
   "source": [
    "# Example adapted from https://github.com/rasbt/python-machine-learning-book/blob/master/code/ch12/ch12.ipynb\n",
    "# Original Author: Sebastian Raschka\n",
    "# This is the optional book we use in the course, excellent intuitions and straightforward programming examples\n",
    "# please note, however, that this code has been manipulated to reflect our assumptions and notation.\n",
    "\n",
    "# start with a simple base classifier, which can't be fit or predicted\n",
    "# it only has internal classes to be used by classes that will subclass it\n",
    "class TwoLayerPerceptronBase(BaseEstimator, ClassifierMixin):\n",
    "    def __init__(self, n_hidden=30,\n",
    "                 C=0.0, epochs=500, eta=0.001, random_state=None,\n",
    "                 first_func=\"sigmoid\", cost_func=\"cross_entropy\"):\n",
    "        np.random.seed(random_state)\n",
    "        self.n_hidden = n_hidden\n",
    "        self.l2_C = C\n",
    "        self.epochs = epochs\n",
    "        self.eta = eta\n",
    "        self.first_func = first_func\n",
    "        self.cost_func = cost_func\n",
    "        \n",
    "    @staticmethod\n",
    "    def _encode_labels(y):\n",
    "        \"\"\"Encode labels into one-hot representation\"\"\"\n",
    "        onehot = pd.get_dummies(y).values.T\n",
    "            \n",
    "        return onehot\n",
    "\n",
    "    def _initialize_weights(self):\n",
    "        \"\"\"Initialize weights\"\"\"\n",
    "        if self.first_func == \"relu\" or self.first_func == \"tanh\":\n",
    "            init_bound = np.sqrt(6. / (self.n_hidden + self.n_features_ + 1))\n",
    "            W1 = np.random.uniform(-init_bound, init_bound,(self.n_hidden, self.n_features_ + 1))\n",
    "\n",
    "            init_bound = np.sqrt(2. / (self.n_output_ + self.n_hidden + 1))\n",
    "            W2 = np.random.uniform(-init_bound, init_bound,(self.n_output_, self.n_hidden + 1))\n",
    "        else: \n",
    "            W1_num_elems = (self.n_features_ + 1)*self.n_hidden\n",
    "            W1 = np.random.uniform(-1.0, 1.0,size=W1_num_elems)\n",
    "            W1 = W1.reshape(self.n_hidden, self.n_features_ + 1) # reshape to be W\n",
    "\n",
    "            W2_num_elems = (self.n_hidden + 1)*self.n_output_\n",
    "            W2 = np.random.uniform(-1.0, 1.0, size=W2_num_elems)\n",
    "            W2 = W2.reshape(self.n_output_, self.n_hidden + 1)\n",
    "        return W1, W2\n",
    "    \n",
    "    @staticmethod\n",
    "    def _sigmoid(z):\n",
    "        \"\"\"Use scipy.special.expit to avoid overflow\"\"\"\n",
    "        # 1.0 / (1.0 + np.exp(-z))\n",
    "        return expit(z)\n",
    "    \n",
    "    @staticmethod\n",
    "    def _relu(Z):\n",
    "        return np.maximum(0,Z.copy())\n",
    "    \n",
    "    @staticmethod\n",
    "    def _tanh(Z):\n",
    "        return np.tanh(X, out=X)\n",
    "    \n",
    "    @staticmethod\n",
    "    def _add_bias_unit(X, how='column'):\n",
    "        \"\"\"Add bias unit (column or row of 1s) to array at index 0\"\"\"\n",
    "        if how == 'column':\n",
    "            ones = np.ones((X.shape[0], 1))\n",
    "            X_new = np.hstack((ones, X))\n",
    "        elif how == 'row':\n",
    "            ones = np.ones((1, X.shape[1]))\n",
    "            X_new = np.vstack((ones, X))\n",
    "        return X_new\n",
    "    \n",
    "    @staticmethod\n",
    "    def _L2_reg(lambda_, W1, W2):\n",
    "        \"\"\"Compute L2-regularization cost\"\"\"\n",
    "        # only compute for non-bias terms\n",
    "        return (lambda_/2.0) * np.sqrt(np.mean(W1[:, 1:] ** 2) + np.mean(W2[:, 1:] ** 2))\n",
    "    \n",
    "    def _cost(self,A3,Y_enc,W1,W2):\n",
    "        '''Get the objective function value'''\n",
    "        if self.cost_func == \"cross_entropy\":\n",
    "            cost = -np.mean(np.nan_to_num((Y_enc*np.log(A3)+(1-Y_enc)*np.log(1-A3))))\n",
    "        else: # quadratic\n",
    "            cost = np.mean((Y_enc-A3)**2)\n",
    "        L2_term = self._L2_reg(self.l2_C, W1, W2)\n",
    "        return cost + L2_term\n",
    "    \n",
    "    def _feedforward(self, X, W1, W2):\n",
    "        \"\"\"Compute feedforward step\n",
    "        \"\"\"\n",
    "        A1 = self._add_bias_unit(X, how='column')\n",
    "        Z1 = W1 @ A1.T\n",
    "        if self.first_func == \"sigmoid\":\n",
    "            A2 = self._sigmoid(Z1)\n",
    "        elif self.first_func == \"relu\":\n",
    "            A2 = self._relu(Z1)\n",
    "        elif self.first_func == \"tanh\":\n",
    "            A2 = self._tanh(Z1)\n",
    "        else: \n",
    "            A2 = Z1\n",
    "        A2 = self._add_bias_unit(A2, how='row')\n",
    "        Z2 = W2 @ A2\n",
    "        A3 = self._sigmoid(Z2)\n",
    "        return A1, Z1, A2, Z2, A3\n",
    "    \n",
    "    def _get_gradient(self, A1, A2, A3, Z1, Z2, Y_enc, W1, W2):\n",
    "        \"\"\" Compute gradient step using backpropagation.\n",
    "        \"\"\"\n",
    "        \n",
    "        # vectorized backpropagation\n",
    "        if self.cost_func == \"cross_entropy\":\n",
    "            sigma3 = (A3-Y_enc)\n",
    "        else: # quadratic\n",
    "            sigma3 = -2*(Y_enc-A3)*A3*(1-A3)\n",
    "        \n",
    "        if self.first_func == \"sigmoid\":\n",
    "            sigma2 = (W2.T @ sigma3)*A2*(1-A2)\n",
    "        elif self.first_func == \"relu\":\n",
    "            sigma2 = (W2.T @ sigma3) \n",
    "            Z1_with_bias = self._add_bias_unit(Z1,how='row')\n",
    "            sigma2[Z1_with_bias<=0] = 0\n",
    "        # relu derivative only zeros out certain values! easy!\n",
    "        else: # linear\n",
    "            sigma2 = (W2.T @ sigma3)\n",
    "        \n",
    "        grad1 = sigma2[1:,:] @ A1\n",
    "        grad2 = sigma3 @ A2.T\n",
    "        \n",
    "        # regularize weights that are not bias terms\n",
    "        grad1[:, 1:] += W1[:, 1:] * self.l2_C\n",
    "        grad2[:, 1:] += W2[:, 1:] * self.l2_C\n",
    "\n",
    "        return grad1, grad2\n",
    "    \n",
    "    def predict(self, X):\n",
    "        \"\"\"Predict class labels\"\"\"\n",
    "        _, _, _, _, A3 = self._feedforward(X, self.W1, self.W2)\n",
    "        y_pred = np.argmax(A3, axis=0)\n",
    "        return y_pred\n",
    "    \n",
    "    def score(self, x, y):\n",
    "        res = self.predict(x)\n",
    "        return f1_score(y, res, average='macro')\n",
    "    \n",
    "    def set_params(self, **parameters):\n",
    "        for parameter, value in parameters.items():\n",
    "            setattr(self, parameter, value)\n",
    "        return self\n",
    "            \n",
    "    def get_params(self, deep=True):\n",
    "        return {\n",
    "            'eta': self.eta,\n",
    "            'n_hidden': self.n_hidden,\n",
    "            'C': self.l2_C,\n",
    "            'epochs': self.epochs,\n",
    "            'first_func': self.first_func,\n",
    "            'cost_func': self.cost_func\n",
    "        }"
   ]
  },
  {
   "cell_type": "code",
   "execution_count": 7,
   "metadata": {
    "collapsed": false
   },
   "outputs": [],
   "source": [
    "# just start with the vectorized version and minibatch\n",
    "class TLPMiniBatch(TwoLayerPerceptronBase):\n",
    "    def __init__(self, alpha=0.0, decrease_const=0.0, shuffle=True, \n",
    "                 minibatches=1, print_progress=0,**kwds):        \n",
    "        # need to add to the original initializer \n",
    "        self.alpha = alpha\n",
    "        self.decrease_const = decrease_const\n",
    "        self.shuffle = shuffle\n",
    "        self.minibatches = minibatches\n",
    "        self.print_progress = print_progress\n",
    "        # but keep other keywords\n",
    "        super().__init__(**kwds)\n",
    "        \n",
    "    \n",
    "    def fit(self, X, y):\n",
    "        \"\"\" Learn weights from training data. With mini-batch\"\"\"\n",
    "        X_data, y_data = X.copy(), y.copy()\n",
    "        Y_enc = self._encode_labels(y)\n",
    "        \n",
    "        # init weights and setup matrices\n",
    "        self.n_features_ = X_data.shape[1]\n",
    "        self.n_output_ = Y_enc.shape[0]\n",
    "        self.W1, self.W2 = self._initialize_weights()\n",
    "\n",
    "        delta_W1_prev = np.zeros(self.W1.shape)\n",
    "        delta_W2_prev = np.zeros(self.W2.shape)\n",
    "\n",
    "        self.cost_ = []\n",
    "        self.score_ = []\n",
    "        for i in range(self.epochs):\n",
    "\n",
    "            # adaptive learning rate\n",
    "            self.eta /= (1 + self.decrease_const*i)\n",
    "            \n",
    "            if self.print_progress:\n",
    "                sys.stderr.write('\\rEpoch: %d/%d' % (i+1, self.epochs))\n",
    "                sys.stderr.flush()\n",
    "\n",
    "            if self.shuffle:\n",
    "                idx_shuffle = np.random.permutation(y_data.shape[0])\n",
    "                X_data, Y_enc, y_data = X_data[idx_shuffle], Y_enc[:, idx_shuffle], y_data[idx_shuffle]\n",
    "\n",
    "            mini = np.array_split(range(y_data.shape[0]), self.minibatches)\n",
    "            mini_cost = []\n",
    "            for idx in mini:\n",
    "\n",
    "                # feedforward\n",
    "                A1, Z1, A2, Z2, A3 = self._feedforward(X_data[idx],\n",
    "                                                       self.W1,\n",
    "                                                       self.W2)\n",
    "                \n",
    "                cost = self._cost(A3,Y_enc[:, idx],self.W1,self.W2)\n",
    "                mini_cost.append(cost) # this appends cost of mini-batch only\n",
    "\n",
    "                # compute gradient via backpropagation\n",
    "                grad1, grad2 = self._get_gradient(A1=A1, A2=A2, A3=A3, Z1=Z1, Z2=Z2, \n",
    "                                                  Y_enc=Y_enc[:, idx],\n",
    "                                                  W1=self.W1,W2=self.W2)\n",
    "\n",
    "                # momentum calculations\n",
    "                delta_W1, delta_W2 = self.eta * grad1, self.eta * grad2\n",
    "                self.W1 -= (delta_W1 + (self.alpha * delta_W1_prev))\n",
    "                self.W2 -= (delta_W2 + (self.alpha * delta_W2_prev))\n",
    "                delta_W1_prev, delta_W2_prev = delta_W1, delta_W2\n",
    "\n",
    "            self.cost_.append(mini_cost)\n",
    "            self.score_.append(f1_score(y_data,self.predict(X_data), average='macro'))\n",
    "            \n",
    "        return self"
   ]
  },
  {
   "cell_type": "code",
   "execution_count": 8,
   "metadata": {
    "collapsed": false
   },
   "outputs": [
    {
     "name": "stderr",
     "output_type": "stream",
     "text": [
      "Epoch: 200/200"
     ]
    },
    {
     "name": "stdout",
     "output_type": "stream",
     "text": [
      "f1 score: 0.686394303794\n",
      "How many of each class did we predict? [108 123  88  96 110  85 102 105  85  98]\n",
      "Total images in each class: [479 563 488 493 535 434 501 550 462 495]\n"
     ]
    }
   ],
   "source": [
    "# Testing the model\n",
    "\n",
    "params =  dict(n_hidden=100, \n",
    "              C=0.0001, # tradeoff L2 regularizer\n",
    "              epochs=200, # iterations\n",
    "              eta=0.0001,  # learning rate\n",
    "              random_state=1,\n",
    "              print_progress=True,\n",
    "              cost_func=\"cross_entropy\",\n",
    "              first_func=\"sigmoid\")\n",
    "cv = StratifiedShuffleSplit(n_splits=1, test_size=.2)\n",
    "pl = Pipeline([('scaler', StandardScaler()), ('TLP', TLPMiniBatch(**params))])\n",
    "for train_index, test_index in cv.split(X, Y):\n",
    "    pl.fit(X[train_index], Y[train_index])\n",
    "    yhat = pl.predict(X[test_index])\n",
    "    print('f1 score:', f1_score(Y[test_index], yhat, average='macro'))\n",
    "    print('How many of each class did we predict? ' + str(np.bincount(yhat)))\n",
    "\n",
    "print('Total images in each class: ' + str(np.bincount(Y)))"
   ]
  },
  {
   "cell_type": "markdown",
   "metadata": {},
   "source": [
    "Ran the test with quadratic as the cost function at first, thought I made a mistake. Realized the huge difference between quadratic and cross entropy. We just ran the first fit and predict using our custom TLPMiniBatch with random but calculated parameters."
   ]
  },
  {
   "cell_type": "markdown",
   "metadata": {},
   "source": [
    "## Hyperparameter Tuning\n",
    "\n",
    "For hyperparameter tuning we decided to tune the regularization and eta parameters using the cross entropy cost function and the sigmoid first function.\n",
    "\n",
    "After calculation of an initial 48 different scenarios and getting the best F1 score of 86.8%, we decided C=0.5 and eta=0.005 was best for the 1st scenario. I'd say that a F1 score of 86.8% is pretty darn good for predicting a number from images using our own implementation.\n",
    "\n",
    "Based on the visualization from the first 48 scenarios, we came up with 40 other scenarios to furthur try and increase the F1 score. We got a better F1 score of 88.5% using C=0.5 and eta=0.003."
   ]
  },
  {
   "cell_type": "code",
   "execution_count": 9,
   "metadata": {
    "collapsed": false
   },
   "outputs": [],
   "source": [
    "def find_best_hyper_params(C_vals, eta_vals):\n",
    "    results = []\n",
    "    scenario_counter = 1\n",
    "    print('Scenario Completed: ',end='')\n",
    "    cv = StratifiedShuffleSplit(n_splits=1, test_size=.2)\n",
    "    for c in C_vals:\n",
    "        for eta in eta_vals:\n",
    "            params =  dict(n_hidden=100, \n",
    "                  C=c, # tradeoff L2 regularizer\n",
    "                  epochs=200, # iterations\n",
    "                  eta=eta,  # learning rate\n",
    "                  random_state=1,\n",
    "                  cost_func=\"cross_entropy\",\n",
    "                  first_func=\"sigmoid\")\n",
    "            pl = Pipeline([('scaler', StandardScaler()), ('TLP', TLPMiniBatch(**params))])\n",
    "            for train_index, test_index in cv.split(X, Y):\n",
    "                pl.fit(X[train_index], Y[train_index])\n",
    "                yhat = pl.predict(X[test_index])\n",
    "                results.append(f1_score(Y[test_index], yhat, average='macro'))\n",
    "                print(str(scenario_counter) + \" \", end='')\n",
    "                scenario_counter += 1\n",
    "    print()\n",
    "    print('All scenario\\'s completed.')\n",
    "    print('Results: ' + str(results))\n",
    "    return results\n",
    "\n",
    "def graph_hyper_params(C_vals, eta_vals, results):\n",
    "    plt.style.use('ggplot')\n",
    "    plt.figure(figsize=(15,15))  \n",
    "\n",
    "    start_index = 0\n",
    "    for i, c in enumerate(C_vals):\n",
    "        end_index = start_index + len(eta_vals)\n",
    "        plt.plot(eta_vals, results[start_index:end_index], label=\"C=\" + str(c), marker='o')\n",
    "        start_index = end_index\n",
    "\n",
    "\n",
    "    plt.legend(loc='center left', bbox_to_anchor=(1, 0.5))\n",
    "    plt.title(\"F1 score with custom C and eta hyperparams\")\n",
    "    plt.xlabel(\"eta value\")\n",
    "    plt.ylabel(\"F1 score\")\n",
    "    plt.show()\n",
    "    \n",
    "def print_best_hyper_params(C_vals, eta_vals, results):\n",
    "    max_index = np.argmax(results)\n",
    "    current_index = 0\n",
    "    for c in C_vals:\n",
    "        for eta in eta_vals:\n",
    "            if current_index == max_index:\n",
    "                print('Best C: ' + str(c) + ' - Best eta: ' + str(eta) + ' - Best F1 score: ' + str(np.max(results)))\n",
    "            current_index += 1"
   ]
  },
  {
   "cell_type": "code",
   "execution_count": 10,
   "metadata": {
    "collapsed": false,
    "scrolled": true
   },
   "outputs": [
    {
     "name": "stdout",
     "output_type": "stream",
     "text": [
      "Scenario Completed: 1 2 3 4 5 6 7 8 9 10 11 12 13 14 15 16 17 18 19 20 21 22 23 24 25 26 27 28 29 30 31 32 33 34 35 36 37 38 39 40 41 42 43 44 45 46 47 48 \n",
      "All scenario's completed.\n",
      "Results: [0.68639430379417887, 0.84591838211083492, 0.86132761589133877, 0.65865903357117772, 0.61274676763114377, 0.65957795682580178, 0.68639430379417887, 0.84591838211083492, 0.86142582204471974, 0.65865903357117772, 0.58988157392566476, 0.61005319847558304, 0.68639430379417887, 0.84591838211083492, 0.86040080279819564, 0.65865903357117772, 0.60961127961750416, 0.6348147163873834, 0.68639430379417887, 0.84591838211083492, 0.86248869531266015, 0.65769026310809697, 0.55453436253915134, 0.59427197465504322, 0.68639430379417887, 0.84698951761414365, 0.86043626905656367, 0.66158398066707913, 0.5440812948228928, 0.53980471789538731, 0.68755696585729187, 0.84491932078058074, 0.86257534304773364, 0.6428641984353447, 0.55456161075154564, 0.42366398946432693, 0.6892965062290991, 0.84499475224048726, 0.8706970829393802, 0.64452689916993378, 0.49855304265347034, 0.59134068953736429, 0.6892965062290991, 0.84922104324967518, 0.8803823662749426, 0.6400512614258409, 0.55232357368113827, 0.11106059666557735]\n"
     ]
    }
   ],
   "source": [
    "warnings.filterwarnings('ignore')\n",
    "\n",
    "C_vals = [0.0001, 0.0005, 0.001, 0.005, 0.01, 0.05, 0.1, 0.5]\n",
    "eta_vals = [0.0001, 0.001, 0.005, 0.01, 0.05, 0.1]\n",
    "\n",
    "results = find_best_hyper_params(C_vals, eta_vals)"
   ]
  },
  {
   "cell_type": "code",
   "execution_count": 11,
   "metadata": {
    "collapsed": false
   },
   "outputs": [
    {
     "data": {
      "image/png": "[encoded data removed]",
      "text/plain": [
       "<matplotlib.figure.Figure at 0x1a485fe8f60>"
      ]
     },
     "metadata": {},
     "output_type": "display_data"
    }
   ],
   "source": [
    "graph_hyper_params(C_vals, eta_vals, results)"
   ]
  },
  {
   "cell_type": "code",
   "execution_count": null,
   "metadata": {
    "collapsed": false
   },
   "outputs": [
    {
     "name": "stdout",
     "output_type": "stream",
     "text": [
      "Best C: 0.5 - Best eta: 0.005 - Best F1 score: 0.880382366275\n"
     ]
    }
   ],
   "source": [
    "print_best_hyper_params(C_vals, eta_vals, results)"
   ]
  },
  {
   "cell_type": "markdown",
   "metadata": {},
   "source": [
    "#### Hyper Params Test 2 based on 1st test"
   ]
  },
  {
   "cell_type": "code",
   "execution_count": null,
   "metadata": {
    "collapsed": false
   },
   "outputs": [
    {
     "name": "stdout",
     "output_type": "stream",
     "text": [
      "Scenario Completed: 1 2 3 4 5 6 7 8 9 10 11 12 13 14 15 16 17 18 19 20 21 22 23 24 25 26 27 28 29 30 31 32 33 34 35 36 37 "
     ]
    }
   ],
   "source": [
    "C_vals_test2 = [0.0001, 0.0005, 0.001, 0.005, 0.01, 0.05, 0.1, 0.5]\n",
    "eta_vals_test2 = [0.003, 0.004, 0.005, 0.006, 0.007]\n",
    "\n",
    "results_test2 = find_best_hyper_params(C_vals_test2, eta_vals_test2)"
   ]
  },
  {
   "cell_type": "code",
   "execution_count": null,
   "metadata": {
    "collapsed": false
   },
   "outputs": [],
   "source": [
    "graph_hyper_params(C_vals_test2, eta_vals_test2, results_test2)"
   ]
  },
  {
   "cell_type": "code",
   "execution_count": null,
   "metadata": {
    "collapsed": false
   },
   "outputs": [],
   "source": [
    "print_best_hyper_params(C_vals_test2, eta_vals_test2, results_test2)"
   ]
  },
  {
   "cell_type": "markdown",
   "metadata": {},
   "source": [
    "## Scikit Comparison\n",
    "\n",
    "Finally we compared our hyper parameterized tuned cross entropy sigmoid model against scikit-learn's own MLP Classifier using default parameters.\n",
    "\n",
    "Their MLP Classifier defaults to 100 hidden layers, relu, an adam gradient solver.\n",
    "\n",
    "Of the 2 different implementations we compared the F1 scores, memory usage, and run time. Scikit had better performance on all these metrics.\n",
    "\n",
    "However, the scikit implementation with our preprocessing techniques hovers around an F1 score of .55. This means our image processing techniques is not great with this model for image detection. Hopefully as our It was still a great exploration into different types of image processing techniques. "
   ]
  },
  {
   "cell_type": "code",
   "execution_count": null,
   "metadata": {
    "collapsed": false
   },
   "outputs": [],
   "source": [
    "# SKLearn's implementation\n",
    "cv = StratifiedShuffleSplit(n_splits=1, test_size=.2)\n",
    "pl = Pipeline([('scaler', StandardScaler()), ('TLP', MLPClassifier())])\n",
    "for train_index, test_index in cv.split(X, Y):\n",
    "    %time %memit pl.fit(X[train_index], Y[train_index])\n",
    "    yhat = pl.predict(X[test_index])\n",
    "    print('f1 score:', f1_score(Y[test_index], yhat, average='macro'))\n",
    "    print(np.bincount(yhat))"
   ]
  },
  {
   "cell_type": "code",
   "execution_count": null,
   "metadata": {
    "collapsed": false
   },
   "outputs": [],
   "source": [
    "# Our implementation\n",
    "cv = StratifiedShuffleSplit(n_splits=1, test_size=.2)\n",
    "\n",
    "params =  dict(n_hidden=100, \n",
    "      C=0.5, # tradeoff L2 regularizer\n",
    "      epochs=200, # iterations\n",
    "      eta=0.003,  # learning rate\n",
    "      random_state=1,\n",
    "      cost_func=\"cross_entropy\",\n",
    "      first_func=\"sigmoid\")\n",
    "p2 = Pipeline([('scaler', StandardScaler()), ('TLP', TLPMiniBatch(**params))])\n",
    "for train_index, test_index in cv.split(X, Y):\n",
    "    %time %memit p2.fit(X[train_index], Y[train_index])\n",
    "    yhat = p2.predict(X[test_index])\n",
    "    print('f1 score:', f1_score(Y[test_index], yhat, average='macro'))\n",
    "    print(np.bincount(yhat))"
   ]
  },
  {
   "cell_type": "code",
   "execution_count": null,
   "metadata": {
    "collapsed": false
   },
   "outputs": [],
   "source": [
    "plt.style.use('ggplot')\n",
    "\n",
    "objects = ['Scikitlearn MLP', 'Custom MLP']\n",
    "\n",
    "y_pos = np.arange(len(objects))\n",
    "\n",
    "performance = [157.57, 180.62]\n",
    "plt.bar(y_pos, performance, align='center', alpha=0.5)\n",
    "plt.xticks(y_pos,objects)\n",
    "plt.ylabel('Memory usage - MB')\n",
    "plt.title('Scikit vs Custom MLP Memory Usage')\n",
    "\n",
    "plt.show()"
   ]
  },
  {
   "cell_type": "code",
   "execution_count": null,
   "metadata": {
    "collapsed": false
   },
   "outputs": [],
   "source": [
    "plt.style.use('ggplot')\n",
    "\n",
    "objects = ['Scikitlearn MLP', 'Custom MLP']\n",
    "\n",
    "y_pos = np.arange(len(objects))\n",
    "\n",
    "performance = [4.7, 14.3]\n",
    "plt.bar(y_pos, performance, align='center', alpha=0.5)\n",
    "plt.xticks(y_pos,objects)\n",
    "plt.ylabel(\"Time in seconds\")\n",
    "plt.title(\"Scikit vs Custom MLP Execution Time\")\n",
    "\n",
    "plt.show()"
   ]
  },
  {
   "cell_type": "markdown",
   "metadata": {},
   "source": [
    "Our version of MLP performed 3 times as long as Scikit Learn's implementation while only performing a little bit worse in terms of memory usage"
   ]
  },
  {
   "cell_type": "code",
   "execution_count": null,
   "metadata": {
    "collapsed": false
   },
   "outputs": [],
   "source": [
    "plt.style.use('ggplot')\n",
    "\n",
    "objects = ['Scikitlearn MLP', 'Custom MLP']\n",
    "\n",
    "y_pos = np.arange(len(objects))\n",
    "\n",
    "performance = [91.3, 88.5]\n",
    "plt.bar(y_pos, performance, align='center', alpha=0.5)\n",
    "plt.xticks(y_pos,objects)\n",
    "plt.ylabel(\"F1 Score\")\n",
    "plt.title(\"Scikit vs Custom MLP F1 Score\")\n",
    "\n",
    "plt.show()"
   ]
  },
  {
   "cell_type": "markdown",
   "metadata": {},
   "source": [
    "The off by less than 3% for the F1 score seemed like we almost accomplished being better than scikit learn in 1 metric for our giving data."
   ]
  },
  {
   "cell_type": "markdown",
   "metadata": {},
   "source": [
    "### RandomizedSearchCV\n",
    "Attempting to run this for 24 hours to see if it completes for 4 hyper parameters :)"
   ]
  },
  {
   "cell_type": "code",
   "execution_count": null,
   "metadata": {
    "collapsed": false
   },
   "outputs": [],
   "source": [
    "def super_long_randomized_search():\n",
    "    params = dict(\n",
    "        tlp__n_hidden = [100],\n",
    "        tlp__eta = [0.0001, 0.001, 0.005, 0.01, 0.05, 0.1],\n",
    "        tlp__epochs = [200],\n",
    "        tlp__C = [0.0001, 0.0005, 0.001, 0.005, 0.01, 0.05, 0.1, 0.5],\n",
    "        tlp__first_func = ('sigmoid', 'linear', 'relu'),\n",
    "        tlp__cost_func = ('quadratic', 'cross_entropy'),\n",
    "    )\n",
    "\n",
    "    pl = Pipeline([('scaler', StandardScaler()), ('tlp', TLPMiniBatch())])\n",
    "    cv = StratifiedShuffleSplit(n_splits=1, test_size=.2)\n",
    "    gs = RandomizedSearchCV(pl, params, n_jobs=4, scoring='f1_macro', cv=cv)\n",
    "    gs.fit(X, Y)\n",
    "    print('Best score: ' + str(gs.best_score_))\n",
    "    \n",
    "super_long_randomized_search()"
   ]
  }
 ],
 "metadata": {
  "anaconda-cloud": {},
  "kernelspec": {
   "display_name": "Python 3",
   "language": "python",
   "name": "python3"
  },
  "language_info": {
   "codemirror_mode": {
    "name": "ipython",
    "version": 3
   },
   "file_extension": ".py",
   "mimetype": "text/x-python",
   "name": "python",
   "nbconvert_exporter": "python",
   "pygments_lexer": "ipython3",
   "version": "3.6.0"
  }
 },
 "nbformat": 4,
 "nbformat_minor": 0
}
